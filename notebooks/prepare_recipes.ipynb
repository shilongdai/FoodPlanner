{
 "cells": [
  {
   "cell_type": "code",
   "execution_count": 1,
   "metadata": {
    "collapsed": true,
    "ExecuteTime": {
     "end_time": "2023-07-20T23:42:41.652852157Z",
     "start_time": "2023-07-20T23:42:41.281277769Z"
    }
   },
   "outputs": [],
   "source": [
    "import pandas as pd\n",
    "import numpy as np\n",
    "import re\n",
    "import random\n",
    "\n",
    "\n",
    "SEED = 93\n",
    "random.seed(SEED)\n",
    "np.random.seed(SEED)"
   ]
  },
  {
   "cell_type": "code",
   "execution_count": 2,
   "outputs": [
    {
     "data": {
      "text/plain": "                   recipe_name prep_time cook_time     total_time  servings  \\\n0     Apple-Cranberry Crostada       NaN       NaN            NaN         8   \n1    Apple Pie by Grandma Ople   30 mins     1 hrs  1 hrs 30 mins         8   \n2  Sarah's Homemade Applesauce   10 mins   15 mins        25 mins         4   \n3                  Apple Crisp   30 mins   45 mins  1 hrs 15 mins        12   \n4            Apple Pie Filling   20 mins   20 mins  2 hrs 40 mins        40   \n\n               yield                                        ingredients  \\\n0  6 to 8 - servings  3 tablespoons butter, 2 pounds Granny Smith ap...   \n1       1 9-inch pie  8 small Granny Smith apples, or as needed, ½ c...   \n2                NaN  4  apples - peeled, cored and chopped, ¾ cup w...   \n3    1 9x13-inch pan  10 cups all-purpose apples, peeled, cored and ...   \n4      5 9-inch pies  18 cups thinly sliced apples, 3 tablespoons le...   \n\n                                          directions  rating  \\\n0  Heat butter in a large skillet over medium-hig...     4.4   \n1  Peel and core apples, then thinly slice. Set a...     4.8   \n2  Combine apples, water, sugar, and cinnamon in ...     4.8   \n3  Preheat the oven to 350 degrees F (175 degrees...     4.7   \n4  Toss apples with lemon juice in a large bowl a...     4.7   \n\n                                                 url  \\\n0  https://www.allrecipes.com/recipe/76931/apple-...   \n1  https://www.allrecipes.com/recipe/12682/apple-...   \n2  https://www.allrecipes.com/recipe/51301/sarahs...   \n3  https://www.allrecipes.com/recipe/12409/apple-...   \n4  https://www.allrecipes.com/recipe/12681/apple-...   \n\n                                        cuisine_path  \\\n0    /Desserts/Fruit Desserts/Apple Dessert Recipes/   \n1                  /Desserts/Pies/Apple Pie Recipes/   \n2                     /Side Dish/Applesauce Recipes/   \n3  /Desserts/Crisps and Crumbles Recipes/Apple Cr...   \n4                  /Desserts/Pies/Apple Pie Recipes/   \n\n                                           nutrition  \\\n0  Total Fat 18g 23%, Saturated Fat 7g 34%, Chole...   \n1  Total Fat 19g 24%, Saturated Fat 9g 46%, Chole...   \n2  Total Fat 0g 0%, Sodium 3mg 0%, Total Carbohyd...   \n3  Total Fat 8g 11%, Saturated Fat 5g 25%, Choles...   \n4  Total Fat 0g 0%, Sodium 61mg 3%, Total Carbohy...   \n\n                                              timing  \\\n0              Servings: 8, Yield: 6 to 8 - servings   \n1  Prep Time: 30 mins, Cook Time: 1 hrs, Total Ti...   \n2  Prep Time: 10 mins, Cook Time: 15 mins, Total ...   \n3  Prep Time: 30 mins, Cook Time: 45 mins, Total ...   \n4  Prep Time: 20 mins, Cook Time: 20 mins, Additi...   \n\n                                             img_src  \n0  https://www.allrecipes.com/thmb/Tf1wH73bfH6Oql...  \n1  https://www.allrecipes.com/thmb/1I95oiTGz6aEpu...  \n2  https://www.allrecipes.com/thmb/VY5d0tZHB8xz6y...  \n3  https://www.allrecipes.com/thmb/uAzhPOh86PfR-N...  \n4  https://www.allrecipes.com/thmb/c0bbYaS1V_mTt_...  ",
      "text/html": "<div>\n<style scoped>\n    .dataframe tbody tr th:only-of-type {\n        vertical-align: middle;\n    }\n\n    .dataframe tbody tr th {\n        vertical-align: top;\n    }\n\n    .dataframe thead th {\n        text-align: right;\n    }\n</style>\n<table border=\"1\" class=\"dataframe\">\n  <thead>\n    <tr style=\"text-align: right;\">\n      <th></th>\n      <th>recipe_name</th>\n      <th>prep_time</th>\n      <th>cook_time</th>\n      <th>total_time</th>\n      <th>servings</th>\n      <th>yield</th>\n      <th>ingredients</th>\n      <th>directions</th>\n      <th>rating</th>\n      <th>url</th>\n      <th>cuisine_path</th>\n      <th>nutrition</th>\n      <th>timing</th>\n      <th>img_src</th>\n    </tr>\n  </thead>\n  <tbody>\n    <tr>\n      <th>0</th>\n      <td>Apple-Cranberry Crostada</td>\n      <td>NaN</td>\n      <td>NaN</td>\n      <td>NaN</td>\n      <td>8</td>\n      <td>6 to 8 - servings</td>\n      <td>3 tablespoons butter, 2 pounds Granny Smith ap...</td>\n      <td>Heat butter in a large skillet over medium-hig...</td>\n      <td>4.4</td>\n      <td>https://www.allrecipes.com/recipe/76931/apple-...</td>\n      <td>/Desserts/Fruit Desserts/Apple Dessert Recipes/</td>\n      <td>Total Fat 18g 23%, Saturated Fat 7g 34%, Chole...</td>\n      <td>Servings: 8, Yield: 6 to 8 - servings</td>\n      <td>https://www.allrecipes.com/thmb/Tf1wH73bfH6Oql...</td>\n    </tr>\n    <tr>\n      <th>1</th>\n      <td>Apple Pie by Grandma Ople</td>\n      <td>30 mins</td>\n      <td>1 hrs</td>\n      <td>1 hrs 30 mins</td>\n      <td>8</td>\n      <td>1 9-inch pie</td>\n      <td>8 small Granny Smith apples, or as needed, ½ c...</td>\n      <td>Peel and core apples, then thinly slice. Set a...</td>\n      <td>4.8</td>\n      <td>https://www.allrecipes.com/recipe/12682/apple-...</td>\n      <td>/Desserts/Pies/Apple Pie Recipes/</td>\n      <td>Total Fat 19g 24%, Saturated Fat 9g 46%, Chole...</td>\n      <td>Prep Time: 30 mins, Cook Time: 1 hrs, Total Ti...</td>\n      <td>https://www.allrecipes.com/thmb/1I95oiTGz6aEpu...</td>\n    </tr>\n    <tr>\n      <th>2</th>\n      <td>Sarah's Homemade Applesauce</td>\n      <td>10 mins</td>\n      <td>15 mins</td>\n      <td>25 mins</td>\n      <td>4</td>\n      <td>NaN</td>\n      <td>4  apples - peeled, cored and chopped, ¾ cup w...</td>\n      <td>Combine apples, water, sugar, and cinnamon in ...</td>\n      <td>4.8</td>\n      <td>https://www.allrecipes.com/recipe/51301/sarahs...</td>\n      <td>/Side Dish/Applesauce Recipes/</td>\n      <td>Total Fat 0g 0%, Sodium 3mg 0%, Total Carbohyd...</td>\n      <td>Prep Time: 10 mins, Cook Time: 15 mins, Total ...</td>\n      <td>https://www.allrecipes.com/thmb/VY5d0tZHB8xz6y...</td>\n    </tr>\n    <tr>\n      <th>3</th>\n      <td>Apple Crisp</td>\n      <td>30 mins</td>\n      <td>45 mins</td>\n      <td>1 hrs 15 mins</td>\n      <td>12</td>\n      <td>1 9x13-inch pan</td>\n      <td>10 cups all-purpose apples, peeled, cored and ...</td>\n      <td>Preheat the oven to 350 degrees F (175 degrees...</td>\n      <td>4.7</td>\n      <td>https://www.allrecipes.com/recipe/12409/apple-...</td>\n      <td>/Desserts/Crisps and Crumbles Recipes/Apple Cr...</td>\n      <td>Total Fat 8g 11%, Saturated Fat 5g 25%, Choles...</td>\n      <td>Prep Time: 30 mins, Cook Time: 45 mins, Total ...</td>\n      <td>https://www.allrecipes.com/thmb/uAzhPOh86PfR-N...</td>\n    </tr>\n    <tr>\n      <th>4</th>\n      <td>Apple Pie Filling</td>\n      <td>20 mins</td>\n      <td>20 mins</td>\n      <td>2 hrs 40 mins</td>\n      <td>40</td>\n      <td>5 9-inch pies</td>\n      <td>18 cups thinly sliced apples, 3 tablespoons le...</td>\n      <td>Toss apples with lemon juice in a large bowl a...</td>\n      <td>4.7</td>\n      <td>https://www.allrecipes.com/recipe/12681/apple-...</td>\n      <td>/Desserts/Pies/Apple Pie Recipes/</td>\n      <td>Total Fat 0g 0%, Sodium 61mg 3%, Total Carbohy...</td>\n      <td>Prep Time: 20 mins, Cook Time: 20 mins, Additi...</td>\n      <td>https://www.allrecipes.com/thmb/c0bbYaS1V_mTt_...</td>\n    </tr>\n  </tbody>\n</table>\n</div>"
     },
     "execution_count": 2,
     "metadata": {},
     "output_type": "execute_result"
    }
   ],
   "source": [
    "recipe_df = pd.read_csv(\"../data/recipes.csv\", index_col=0)\n",
    "recipe_df.head()"
   ],
   "metadata": {
    "collapsed": false,
    "ExecuteTime": {
     "end_time": "2023-07-20T23:42:41.708283314Z",
     "start_time": "2023-07-20T23:42:41.655593777Z"
    }
   }
  },
  {
   "cell_type": "code",
   "execution_count": 3,
   "outputs": [
    {
     "data": {
      "text/plain": "recipe_name       0\nprep_time        51\ncook_time       308\ntotal_time       45\nservings          0\nyield           211\ningredients       0\ndirections        0\nrating            0\nurl               0\ncuisine_path      0\nnutrition         0\ntiming            0\nimg_src           0\ndtype: int64"
     },
     "execution_count": 3,
     "metadata": {},
     "output_type": "execute_result"
    }
   ],
   "source": [
    "for c in recipe_df.columns:\n",
    "    if recipe_df[c].dtype != \"object\":\n",
    "        continue\n",
    "    recipe_df.loc[recipe_df[c].str.strip() == \"\", c] = np.NaN\n",
    "\n",
    "recipe_df.isna().sum()"
   ],
   "metadata": {
    "collapsed": false,
    "ExecuteTime": {
     "end_time": "2023-07-20T23:42:41.785469969Z",
     "start_time": "2023-07-20T23:42:41.728829998Z"
    }
   }
  },
  {
   "cell_type": "code",
   "execution_count": 4,
   "outputs": [
    {
     "data": {
      "text/plain": "                   recipe_name  prep_time  cook_time  total_time  servings  \\\n0     Apple-Cranberry Crostada        NaN        NaN         NaN         8   \n1    Apple Pie by Grandma Ople       30.0       60.0        90.0         8   \n2  Sarah's Homemade Applesauce       10.0       15.0        25.0         4   \n3                  Apple Crisp       30.0       45.0        75.0        12   \n4            Apple Pie Filling       20.0       20.0       160.0        40   \n\n               yield                                        ingredients  \\\n0  6 to 8 - servings  3 tablespoons butter, 2 pounds Granny Smith ap...   \n1       1 9-inch pie  8 small Granny Smith apples, or as needed, ½ c...   \n2                NaN  4  apples - peeled, cored and chopped, ¾ cup w...   \n3    1 9x13-inch pan  10 cups all-purpose apples, peeled, cored and ...   \n4      5 9-inch pies  18 cups thinly sliced apples, 3 tablespoons le...   \n\n                                          directions  rating  \\\n0  Heat butter in a large skillet over medium-hig...     4.4   \n1  Peel and core apples, then thinly slice. Set a...     4.8   \n2  Combine apples, water, sugar, and cinnamon in ...     4.8   \n3  Preheat the oven to 350 degrees F (175 degrees...     4.7   \n4  Toss apples with lemon juice in a large bowl a...     4.7   \n\n                                                 url  \\\n0  https://www.allrecipes.com/recipe/76931/apple-...   \n1  https://www.allrecipes.com/recipe/12682/apple-...   \n2  https://www.allrecipes.com/recipe/51301/sarahs...   \n3  https://www.allrecipes.com/recipe/12409/apple-...   \n4  https://www.allrecipes.com/recipe/12681/apple-...   \n\n                                        cuisine_path  \\\n0  [Desserts, Fruit Desserts, Apple Dessert Recipes]   \n1                [Desserts, Pies, Apple Pie Recipes]   \n2                    [Side Dish, Applesauce Recipes]   \n3  [Desserts, Crisps and Crumbles Recipes, Apple ...   \n4                [Desserts, Pies, Apple Pie Recipes]   \n\n                                           nutrition  \\\n0  {'Total Fat': (18.0, 'g'), 'Saturated Fat': (7...   \n1  {'Total Fat': (19.0, 'g'), 'Saturated Fat': (9...   \n2  {'Total Fat': (0.0, 'g'), 'Sodium': (3.0, 'mg'...   \n3  {'Total Fat': (8.0, 'g'), 'Saturated Fat': (5....   \n4  {'Total Fat': (0.0, 'g'), 'Sodium': (61.0, 'mg...   \n\n                                              timing  \\\n0              Servings: 8, Yield: 6 to 8 - servings   \n1  Prep Time: 30 mins, Cook Time: 1 hrs, Total Ti...   \n2  Prep Time: 10 mins, Cook Time: 15 mins, Total ...   \n3  Prep Time: 30 mins, Cook Time: 45 mins, Total ...   \n4  Prep Time: 20 mins, Cook Time: 20 mins, Additi...   \n\n                                             img_src  \n0  https://www.allrecipes.com/thmb/Tf1wH73bfH6Oql...  \n1  https://www.allrecipes.com/thmb/1I95oiTGz6aEpu...  \n2  https://www.allrecipes.com/thmb/VY5d0tZHB8xz6y...  \n3  https://www.allrecipes.com/thmb/uAzhPOh86PfR-N...  \n4  https://www.allrecipes.com/thmb/c0bbYaS1V_mTt_...  ",
      "text/html": "<div>\n<style scoped>\n    .dataframe tbody tr th:only-of-type {\n        vertical-align: middle;\n    }\n\n    .dataframe tbody tr th {\n        vertical-align: top;\n    }\n\n    .dataframe thead th {\n        text-align: right;\n    }\n</style>\n<table border=\"1\" class=\"dataframe\">\n  <thead>\n    <tr style=\"text-align: right;\">\n      <th></th>\n      <th>recipe_name</th>\n      <th>prep_time</th>\n      <th>cook_time</th>\n      <th>total_time</th>\n      <th>servings</th>\n      <th>yield</th>\n      <th>ingredients</th>\n      <th>directions</th>\n      <th>rating</th>\n      <th>url</th>\n      <th>cuisine_path</th>\n      <th>nutrition</th>\n      <th>timing</th>\n      <th>img_src</th>\n    </tr>\n  </thead>\n  <tbody>\n    <tr>\n      <th>0</th>\n      <td>Apple-Cranberry Crostada</td>\n      <td>NaN</td>\n      <td>NaN</td>\n      <td>NaN</td>\n      <td>8</td>\n      <td>6 to 8 - servings</td>\n      <td>3 tablespoons butter, 2 pounds Granny Smith ap...</td>\n      <td>Heat butter in a large skillet over medium-hig...</td>\n      <td>4.4</td>\n      <td>https://www.allrecipes.com/recipe/76931/apple-...</td>\n      <td>[Desserts, Fruit Desserts, Apple Dessert Recipes]</td>\n      <td>{'Total Fat': (18.0, 'g'), 'Saturated Fat': (7...</td>\n      <td>Servings: 8, Yield: 6 to 8 - servings</td>\n      <td>https://www.allrecipes.com/thmb/Tf1wH73bfH6Oql...</td>\n    </tr>\n    <tr>\n      <th>1</th>\n      <td>Apple Pie by Grandma Ople</td>\n      <td>30.0</td>\n      <td>60.0</td>\n      <td>90.0</td>\n      <td>8</td>\n      <td>1 9-inch pie</td>\n      <td>8 small Granny Smith apples, or as needed, ½ c...</td>\n      <td>Peel and core apples, then thinly slice. Set a...</td>\n      <td>4.8</td>\n      <td>https://www.allrecipes.com/recipe/12682/apple-...</td>\n      <td>[Desserts, Pies, Apple Pie Recipes]</td>\n      <td>{'Total Fat': (19.0, 'g'), 'Saturated Fat': (9...</td>\n      <td>Prep Time: 30 mins, Cook Time: 1 hrs, Total Ti...</td>\n      <td>https://www.allrecipes.com/thmb/1I95oiTGz6aEpu...</td>\n    </tr>\n    <tr>\n      <th>2</th>\n      <td>Sarah's Homemade Applesauce</td>\n      <td>10.0</td>\n      <td>15.0</td>\n      <td>25.0</td>\n      <td>4</td>\n      <td>NaN</td>\n      <td>4  apples - peeled, cored and chopped, ¾ cup w...</td>\n      <td>Combine apples, water, sugar, and cinnamon in ...</td>\n      <td>4.8</td>\n      <td>https://www.allrecipes.com/recipe/51301/sarahs...</td>\n      <td>[Side Dish, Applesauce Recipes]</td>\n      <td>{'Total Fat': (0.0, 'g'), 'Sodium': (3.0, 'mg'...</td>\n      <td>Prep Time: 10 mins, Cook Time: 15 mins, Total ...</td>\n      <td>https://www.allrecipes.com/thmb/VY5d0tZHB8xz6y...</td>\n    </tr>\n    <tr>\n      <th>3</th>\n      <td>Apple Crisp</td>\n      <td>30.0</td>\n      <td>45.0</td>\n      <td>75.0</td>\n      <td>12</td>\n      <td>1 9x13-inch pan</td>\n      <td>10 cups all-purpose apples, peeled, cored and ...</td>\n      <td>Preheat the oven to 350 degrees F (175 degrees...</td>\n      <td>4.7</td>\n      <td>https://www.allrecipes.com/recipe/12409/apple-...</td>\n      <td>[Desserts, Crisps and Crumbles Recipes, Apple ...</td>\n      <td>{'Total Fat': (8.0, 'g'), 'Saturated Fat': (5....</td>\n      <td>Prep Time: 30 mins, Cook Time: 45 mins, Total ...</td>\n      <td>https://www.allrecipes.com/thmb/uAzhPOh86PfR-N...</td>\n    </tr>\n    <tr>\n      <th>4</th>\n      <td>Apple Pie Filling</td>\n      <td>20.0</td>\n      <td>20.0</td>\n      <td>160.0</td>\n      <td>40</td>\n      <td>5 9-inch pies</td>\n      <td>18 cups thinly sliced apples, 3 tablespoons le...</td>\n      <td>Toss apples with lemon juice in a large bowl a...</td>\n      <td>4.7</td>\n      <td>https://www.allrecipes.com/recipe/12681/apple-...</td>\n      <td>[Desserts, Pies, Apple Pie Recipes]</td>\n      <td>{'Total Fat': (0.0, 'g'), 'Sodium': (61.0, 'mg...</td>\n      <td>Prep Time: 20 mins, Cook Time: 20 mins, Additi...</td>\n      <td>https://www.allrecipes.com/thmb/c0bbYaS1V_mTt_...</td>\n    </tr>\n  </tbody>\n</table>\n</div>"
     },
     "execution_count": 4,
     "metadata": {},
     "output_type": "execute_result"
    }
   ],
   "source": [
    "nutrition_regex = re.compile(r\"(?P<nutrition>[a-zA-Z\\s]+)(?P<amount>\\d+)(?P<unit>[a-z]+).*\")\n",
    "time_regex = re.compile(r\"((?P<hours>\\d+)\\s+hrs)?\\s*((?P<minutes>\\d+)\\s+mins)?\\s*\")\n",
    "\n",
    "\n",
    "def parse_nutrition(nutrition_desc):\n",
    "    result = {}\n",
    "    for entry in nutrition_desc.split(\", \"):\n",
    "        entry = entry.strip()\n",
    "        matcher = nutrition_regex.match(entry)\n",
    "        if not matcher:\n",
    "            raise ValueError(nutrition_desc + \" | \" + entry)\n",
    "        else:\n",
    "            name = matcher.group(\"nutrition\").strip()\n",
    "            amount = float(matcher.group(\"amount\"))\n",
    "            unit = matcher.group(\"unit\")\n",
    "            result[name] = (amount, unit)\n",
    "    return result\n",
    "\n",
    "\n",
    "def parse_time(time_str):\n",
    "    if not isinstance(time_str, str) and np.isnan(time_str):\n",
    "        return np.NaN\n",
    "    matcher = time_regex.match(time_str)\n",
    "    if not matcher:\n",
    "        raise ValueError(time_str)\n",
    "    try:\n",
    "        hours = float(matcher.group(\"hours\"))\n",
    "    except (IndexError, TypeError):\n",
    "        hours = 0\n",
    "    try:\n",
    "        minutes = float(matcher.group(\"minutes\"))\n",
    "    except (IndexError, TypeError):\n",
    "        minutes = 0\n",
    "    return hours * 60 + minutes\n",
    "\n",
    "\n",
    "def parse_path(path_str):\n",
    "    return [p for p in path_str.split(\"/\") if len(p.strip()) != 0]\n",
    "\n",
    "\n",
    "recipe_df[\"nutrition\"] = recipe_df.nutrition.apply(parse_nutrition)\n",
    "recipe_df[\"prep_time\"] = recipe_df.prep_time.apply(parse_time)\n",
    "recipe_df[\"cook_time\"] = recipe_df.cook_time.apply(parse_time)\n",
    "recipe_df[\"total_time\"] = recipe_df.total_time.apply(parse_time)\n",
    "recipe_df[\"cuisine_path\"] = recipe_df.cuisine_path.apply(parse_path)\n",
    "recipe_df.head()"
   ],
   "metadata": {
    "collapsed": false,
    "ExecuteTime": {
     "end_time": "2023-07-20T23:42:41.849864071Z",
     "start_time": "2023-07-20T23:42:41.740627102Z"
    }
   }
  },
  {
   "cell_type": "code",
   "execution_count": 5,
   "outputs": [
    {
     "data": {
      "text/plain": "                   recipe_name  prep_time  cook_time  total_time  servings  \\\n0     Apple-Cranberry Crostada        NaN        NaN         NaN         8   \n1    Apple Pie by Grandma Ople       30.0       60.0        90.0         8   \n2  Sarah's Homemade Applesauce       10.0       15.0        25.0         4   \n3                  Apple Crisp       30.0       45.0        75.0        12   \n4            Apple Pie Filling       20.0       20.0       160.0        40   \n\n                                         ingredients  \\\n0  3 tablespoons butter, 2 pounds Granny Smith ap...   \n1  8 small Granny Smith apples, or as needed, ½ c...   \n2  4  apples - peeled, cored and chopped, ¾ cup w...   \n3  10 cups all-purpose apples, peeled, cored and ...   \n4  18 cups thinly sliced apples, 3 tablespoons le...   \n\n                                          directions  rating  \\\n0  Heat butter in a large skillet over medium-hig...     4.4   \n1  Peel and core apples, then thinly slice. Set a...     4.8   \n2  Combine apples, water, sugar, and cinnamon in ...     4.8   \n3  Preheat the oven to 350 degrees F (175 degrees...     4.7   \n4  Toss apples with lemon juice in a large bowl a...     4.7   \n\n                                        cuisine_path  \\\n0  [Desserts, Fruit Desserts, Apple Dessert Recipes]   \n1                [Desserts, Pies, Apple Pie Recipes]   \n2                    [Side Dish, Applesauce Recipes]   \n3  [Desserts, Crisps and Crumbles Recipes, Apple ...   \n4                [Desserts, Pies, Apple Pie Recipes]   \n\n                                           nutrition  \n0  {'Total Fat': (18.0, 'g'), 'Saturated Fat': (7...  \n1  {'Total Fat': (19.0, 'g'), 'Saturated Fat': (9...  \n2  {'Total Fat': (0.0, 'g'), 'Sodium': (3.0, 'mg'...  \n3  {'Total Fat': (8.0, 'g'), 'Saturated Fat': (5....  \n4  {'Total Fat': (0.0, 'g'), 'Sodium': (61.0, 'mg...  ",
      "text/html": "<div>\n<style scoped>\n    .dataframe tbody tr th:only-of-type {\n        vertical-align: middle;\n    }\n\n    .dataframe tbody tr th {\n        vertical-align: top;\n    }\n\n    .dataframe thead th {\n        text-align: right;\n    }\n</style>\n<table border=\"1\" class=\"dataframe\">\n  <thead>\n    <tr style=\"text-align: right;\">\n      <th></th>\n      <th>recipe_name</th>\n      <th>prep_time</th>\n      <th>cook_time</th>\n      <th>total_time</th>\n      <th>servings</th>\n      <th>ingredients</th>\n      <th>directions</th>\n      <th>rating</th>\n      <th>cuisine_path</th>\n      <th>nutrition</th>\n    </tr>\n  </thead>\n  <tbody>\n    <tr>\n      <th>0</th>\n      <td>Apple-Cranberry Crostada</td>\n      <td>NaN</td>\n      <td>NaN</td>\n      <td>NaN</td>\n      <td>8</td>\n      <td>3 tablespoons butter, 2 pounds Granny Smith ap...</td>\n      <td>Heat butter in a large skillet over medium-hig...</td>\n      <td>4.4</td>\n      <td>[Desserts, Fruit Desserts, Apple Dessert Recipes]</td>\n      <td>{'Total Fat': (18.0, 'g'), 'Saturated Fat': (7...</td>\n    </tr>\n    <tr>\n      <th>1</th>\n      <td>Apple Pie by Grandma Ople</td>\n      <td>30.0</td>\n      <td>60.0</td>\n      <td>90.0</td>\n      <td>8</td>\n      <td>8 small Granny Smith apples, or as needed, ½ c...</td>\n      <td>Peel and core apples, then thinly slice. Set a...</td>\n      <td>4.8</td>\n      <td>[Desserts, Pies, Apple Pie Recipes]</td>\n      <td>{'Total Fat': (19.0, 'g'), 'Saturated Fat': (9...</td>\n    </tr>\n    <tr>\n      <th>2</th>\n      <td>Sarah's Homemade Applesauce</td>\n      <td>10.0</td>\n      <td>15.0</td>\n      <td>25.0</td>\n      <td>4</td>\n      <td>4  apples - peeled, cored and chopped, ¾ cup w...</td>\n      <td>Combine apples, water, sugar, and cinnamon in ...</td>\n      <td>4.8</td>\n      <td>[Side Dish, Applesauce Recipes]</td>\n      <td>{'Total Fat': (0.0, 'g'), 'Sodium': (3.0, 'mg'...</td>\n    </tr>\n    <tr>\n      <th>3</th>\n      <td>Apple Crisp</td>\n      <td>30.0</td>\n      <td>45.0</td>\n      <td>75.0</td>\n      <td>12</td>\n      <td>10 cups all-purpose apples, peeled, cored and ...</td>\n      <td>Preheat the oven to 350 degrees F (175 degrees...</td>\n      <td>4.7</td>\n      <td>[Desserts, Crisps and Crumbles Recipes, Apple ...</td>\n      <td>{'Total Fat': (8.0, 'g'), 'Saturated Fat': (5....</td>\n    </tr>\n    <tr>\n      <th>4</th>\n      <td>Apple Pie Filling</td>\n      <td>20.0</td>\n      <td>20.0</td>\n      <td>160.0</td>\n      <td>40</td>\n      <td>18 cups thinly sliced apples, 3 tablespoons le...</td>\n      <td>Toss apples with lemon juice in a large bowl a...</td>\n      <td>4.7</td>\n      <td>[Desserts, Pies, Apple Pie Recipes]</td>\n      <td>{'Total Fat': (0.0, 'g'), 'Sodium': (61.0, 'mg...</td>\n    </tr>\n  </tbody>\n</table>\n</div>"
     },
     "execution_count": 5,
     "metadata": {},
     "output_type": "execute_result"
    }
   ],
   "source": [
    "recipe_reduced = recipe_df.drop([\"yield\", \"url\", \"timing\", \"img_src\"], axis=1)\n",
    "recipe_reduced.head()"
   ],
   "metadata": {
    "collapsed": false,
    "ExecuteTime": {
     "end_time": "2023-07-20T23:42:41.880078536Z",
     "start_time": "2023-07-20T23:42:41.827107050Z"
    }
   }
  },
  {
   "cell_type": "code",
   "execution_count": 6,
   "outputs": [
    {
     "data": {
      "text/plain": "recipe_name       0\nprep_time         0\ncook_time       263\ntotal_time        0\nservings          0\ningredients       0\ndirections        0\nrating            0\ncuisine_path      0\nnutrition         0\ndtype: int64"
     },
     "execution_count": 6,
     "metadata": {},
     "output_type": "execute_result"
    }
   ],
   "source": [
    "recipe_reduced.loc[recipe_reduced.prep_time.isna() &\n",
    "                   ~recipe_reduced.cook_time.isna() &\n",
    "                   ~recipe_reduced.total_time.isna(), \"prep_time\"] = recipe_reduced.total_time - \\\n",
    "                                                                     recipe_reduced.cook_time\n",
    "recipe_reduced.loc[recipe_reduced.cook_time.isna() &\n",
    "                   ~recipe_reduced.prep_time.isna() &\n",
    "                   ~recipe_reduced.total_time.isna(), \"cook_time\"] = recipe_reduced.total_time - \\\n",
    "                                                                     recipe_reduced.cook_time\n",
    "recipe_reduced.loc[recipe_reduced.total_time.isna() &\n",
    "                   ~recipe_reduced.prep_time.isna() &\n",
    "                   ~recipe_reduced.cook_time.isna(), \"total_time\"] = recipe_reduced.prep_time + \\\n",
    "                                                                     recipe_reduced.cook_time\n",
    "recipe_reduced = recipe_reduced.loc[~recipe_reduced.prep_time.isna()].copy()\n",
    "recipe_reduced.isna().sum()"
   ],
   "metadata": {
    "collapsed": false,
    "ExecuteTime": {
     "end_time": "2023-07-20T23:42:41.891015615Z",
     "start_time": "2023-07-20T23:42:41.869455255Z"
    }
   }
  },
  {
   "cell_type": "code",
   "execution_count": 7,
   "outputs": [
    {
     "data": {
      "text/plain": "                        recipe_name  prep_time  cook_time  total_time  \\\n493  Ponche de Frutas (Fruit Punch)       20.0        NaN        20.0   \n183        Vanilla Cherry Ice Cream      195.0        NaN       315.0   \n936           Summer Fruit Salad II       25.0        NaN        85.0   \n649          Caribbean Health Drink       10.0        NaN        10.0   \n780                    Fruit Batido       10.0        NaN        10.0   \n295         Easy Watermelon Martini       10.0        NaN        10.0   \n680           Creamy Mango Smoothie        5.0        NaN         5.0   \n766            White Peachy Sangria       30.0        NaN       510.0   \n246      Simple Cantaloupe Smoothie       10.0        NaN        10.0   \n248             Watermelon Ice Pops       10.0        NaN       130.0   \n\n     servings                                        ingredients  \\\n493        20  3  oranges, juiced, 3  lemons, juiced, ½ pound...   \n183         8  2 cups heavy cream, 1 cup milk, ¾ cup white su...   \n936        12  3 cups cubed (1-inch) seedless watermelon, 1 l...   \n649         2  1 cup chopped carrot, 1  banana, 1  kiwi, peel...   \n780         6  1 (12 fluid ounce) can evaporated milk, 1 cup ...   \n295         1  1 slice watermelon, rind removed, ½ cup ice cu...   \n680         2  ¾ cup cold milk, ¼ cup vanilla yogurt, ¾ teasp...   \n766        20  4 (750 milliliter) bottles moscato wine, 4 (12...   \n246         1  1 cup vanilla yogurt (such as Dannon® Light an...   \n248         6  1 ½ cups watermelon, seeded and diced, ½ cup w...   \n\n                                            directions  rating  \\\n493  In a large punch bowl, combine orange juice, l...     4.6   \n183  Combine the cream, milk, and sugar in a bowl. ...     4.6   \n936  Gently toss the watermelon, peach, nectarine, ...     4.7   \n649  Blend the carrot, banana, kiwi, apple, pineapp...     3.9   \n780  Blend milk, papaya, sugar, vanilla extract, an...     4.0   \n295  Place watermelon in a cocktail shaker and crus...     4.4   \n680  Blend the milk, yogurt, vanilla extract, mango...     4.4   \n766  Stir moscato wine, lemon-lime soda, brandy, pe...     4.9   \n246  Blend yogurt, orange juice, cantaloupe, and ic...     4.7   \n248  Blend watermelon, water, honey, lemon juice, a...     4.7   \n\n                                          cuisine_path  \\\n493                 [Cuisine, Latin American, Mexican]   \n183  [Desserts, Fruit Desserts, Cherry Dessert Reci...   \n936  [Salad, Fruit Salad Recipes, Blueberry Salad R...   \n649               [Cuisine, Latin American, Caribbean]   \n780                 [Drinks Recipes, Smoothie Recipes]   \n295  [Drinks Recipes, Cocktail Recipes, Vodka Drink...   \n680          [Drinks Recipes, Smoothie Recipes, Mango]   \n766                  [Drinks Recipes, Sangria Recipes]   \n246         [Drinks Recipes, Smoothie Recipes, Orange]   \n248  [Desserts, Frozen Dessert Recipes, Popsicle Re...   \n\n                                             nutrition  \n493  {'Total Fat': (0.0, 'g'), 'Sodium': (2.0, 'mg'...  \n183  {'Total Fat': (23.0, 'g'), 'Saturated Fat': (1...  \n936  {'Total Fat': (2.0, 'g'), 'Saturated Fat': (2....  \n649  {'Total Fat': (1.0, 'g'), 'Saturated Fat': (0....  \n780  {'Total Fat': (5.0, 'g'), 'Saturated Fat': (3....  \n295  {'Total Fat': (0.0, 'g'), 'Sodium': (3.0, 'mg'...  \n680  {'Total Fat': (3.0, 'g'), 'Saturated Fat': (2....  \n766  {'Total Fat': (0.0, 'g'), 'Sodium': (24.0, 'mg...  \n246  {'Total Fat': (4.0, 'g'), 'Saturated Fat': (2....  \n248  {'Total Fat': (0.0, 'g'), 'Sodium': (1.0, 'mg'...  ",
      "text/html": "<div>\n<style scoped>\n    .dataframe tbody tr th:only-of-type {\n        vertical-align: middle;\n    }\n\n    .dataframe tbody tr th {\n        vertical-align: top;\n    }\n\n    .dataframe thead th {\n        text-align: right;\n    }\n</style>\n<table border=\"1\" class=\"dataframe\">\n  <thead>\n    <tr style=\"text-align: right;\">\n      <th></th>\n      <th>recipe_name</th>\n      <th>prep_time</th>\n      <th>cook_time</th>\n      <th>total_time</th>\n      <th>servings</th>\n      <th>ingredients</th>\n      <th>directions</th>\n      <th>rating</th>\n      <th>cuisine_path</th>\n      <th>nutrition</th>\n    </tr>\n  </thead>\n  <tbody>\n    <tr>\n      <th>493</th>\n      <td>Ponche de Frutas (Fruit Punch)</td>\n      <td>20.0</td>\n      <td>NaN</td>\n      <td>20.0</td>\n      <td>20</td>\n      <td>3  oranges, juiced, 3  lemons, juiced, ½ pound...</td>\n      <td>In a large punch bowl, combine orange juice, l...</td>\n      <td>4.6</td>\n      <td>[Cuisine, Latin American, Mexican]</td>\n      <td>{'Total Fat': (0.0, 'g'), 'Sodium': (2.0, 'mg'...</td>\n    </tr>\n    <tr>\n      <th>183</th>\n      <td>Vanilla Cherry Ice Cream</td>\n      <td>195.0</td>\n      <td>NaN</td>\n      <td>315.0</td>\n      <td>8</td>\n      <td>2 cups heavy cream, 1 cup milk, ¾ cup white su...</td>\n      <td>Combine the cream, milk, and sugar in a bowl. ...</td>\n      <td>4.6</td>\n      <td>[Desserts, Fruit Desserts, Cherry Dessert Reci...</td>\n      <td>{'Total Fat': (23.0, 'g'), 'Saturated Fat': (1...</td>\n    </tr>\n    <tr>\n      <th>936</th>\n      <td>Summer Fruit Salad II</td>\n      <td>25.0</td>\n      <td>NaN</td>\n      <td>85.0</td>\n      <td>12</td>\n      <td>3 cups cubed (1-inch) seedless watermelon, 1 l...</td>\n      <td>Gently toss the watermelon, peach, nectarine, ...</td>\n      <td>4.7</td>\n      <td>[Salad, Fruit Salad Recipes, Blueberry Salad R...</td>\n      <td>{'Total Fat': (2.0, 'g'), 'Saturated Fat': (2....</td>\n    </tr>\n    <tr>\n      <th>649</th>\n      <td>Caribbean Health Drink</td>\n      <td>10.0</td>\n      <td>NaN</td>\n      <td>10.0</td>\n      <td>2</td>\n      <td>1 cup chopped carrot, 1  banana, 1  kiwi, peel...</td>\n      <td>Blend the carrot, banana, kiwi, apple, pineapp...</td>\n      <td>3.9</td>\n      <td>[Cuisine, Latin American, Caribbean]</td>\n      <td>{'Total Fat': (1.0, 'g'), 'Saturated Fat': (0....</td>\n    </tr>\n    <tr>\n      <th>780</th>\n      <td>Fruit Batido</td>\n      <td>10.0</td>\n      <td>NaN</td>\n      <td>10.0</td>\n      <td>6</td>\n      <td>1 (12 fluid ounce) can evaporated milk, 1 cup ...</td>\n      <td>Blend milk, papaya, sugar, vanilla extract, an...</td>\n      <td>4.0</td>\n      <td>[Drinks Recipes, Smoothie Recipes]</td>\n      <td>{'Total Fat': (5.0, 'g'), 'Saturated Fat': (3....</td>\n    </tr>\n    <tr>\n      <th>295</th>\n      <td>Easy Watermelon Martini</td>\n      <td>10.0</td>\n      <td>NaN</td>\n      <td>10.0</td>\n      <td>1</td>\n      <td>1 slice watermelon, rind removed, ½ cup ice cu...</td>\n      <td>Place watermelon in a cocktail shaker and crus...</td>\n      <td>4.4</td>\n      <td>[Drinks Recipes, Cocktail Recipes, Vodka Drink...</td>\n      <td>{'Total Fat': (0.0, 'g'), 'Sodium': (3.0, 'mg'...</td>\n    </tr>\n    <tr>\n      <th>680</th>\n      <td>Creamy Mango Smoothie</td>\n      <td>5.0</td>\n      <td>NaN</td>\n      <td>5.0</td>\n      <td>2</td>\n      <td>¾ cup cold milk, ¼ cup vanilla yogurt, ¾ teasp...</td>\n      <td>Blend the milk, yogurt, vanilla extract, mango...</td>\n      <td>4.4</td>\n      <td>[Drinks Recipes, Smoothie Recipes, Mango]</td>\n      <td>{'Total Fat': (3.0, 'g'), 'Saturated Fat': (2....</td>\n    </tr>\n    <tr>\n      <th>766</th>\n      <td>White Peachy Sangria</td>\n      <td>30.0</td>\n      <td>NaN</td>\n      <td>510.0</td>\n      <td>20</td>\n      <td>4 (750 milliliter) bottles moscato wine, 4 (12...</td>\n      <td>Stir moscato wine, lemon-lime soda, brandy, pe...</td>\n      <td>4.9</td>\n      <td>[Drinks Recipes, Sangria Recipes]</td>\n      <td>{'Total Fat': (0.0, 'g'), 'Sodium': (24.0, 'mg...</td>\n    </tr>\n    <tr>\n      <th>246</th>\n      <td>Simple Cantaloupe Smoothie</td>\n      <td>10.0</td>\n      <td>NaN</td>\n      <td>10.0</td>\n      <td>1</td>\n      <td>1 cup vanilla yogurt (such as Dannon® Light an...</td>\n      <td>Blend yogurt, orange juice, cantaloupe, and ic...</td>\n      <td>4.7</td>\n      <td>[Drinks Recipes, Smoothie Recipes, Orange]</td>\n      <td>{'Total Fat': (4.0, 'g'), 'Saturated Fat': (2....</td>\n    </tr>\n    <tr>\n      <th>248</th>\n      <td>Watermelon Ice Pops</td>\n      <td>10.0</td>\n      <td>NaN</td>\n      <td>130.0</td>\n      <td>6</td>\n      <td>1 ½ cups watermelon, seeded and diced, ½ cup w...</td>\n      <td>Blend watermelon, water, honey, lemon juice, a...</td>\n      <td>4.7</td>\n      <td>[Desserts, Frozen Dessert Recipes, Popsicle Re...</td>\n      <td>{'Total Fat': (0.0, 'g'), 'Sodium': (1.0, 'mg'...</td>\n    </tr>\n  </tbody>\n</table>\n</div>"
     },
     "execution_count": 7,
     "metadata": {},
     "output_type": "execute_result"
    }
   ],
   "source": [
    "recipe_reduced.loc[recipe_reduced.cook_time.isna()].sample(10, random_state=SEED)"
   ],
   "metadata": {
    "collapsed": false,
    "ExecuteTime": {
     "end_time": "2023-07-20T23:42:42.021594061Z",
     "start_time": "2023-07-20T23:42:41.869720582Z"
    }
   }
  },
  {
   "cell_type": "code",
   "execution_count": 8,
   "outputs": [
    {
     "data": {
      "text/plain": "                         recipe_name  prep_time  cook_time  total_time  \\\n1          Apple Pie by Grandma Ople       30.0       60.0        90.0   \n2        Sarah's Homemade Applesauce       10.0       15.0        25.0   \n3                        Apple Crisp       30.0       45.0        75.0   \n4                  Apple Pie Filling       20.0       20.0       160.0   \n5  Easy Apple Crisp with Oat Topping       20.0       40.0        60.0   \n\n   servings                                        ingredients  \\\n1         8  8 small Granny Smith apples, or as needed, ½ c...   \n2         4  4  apples - peeled, cored and chopped, ¾ cup w...   \n3        12  10 cups all-purpose apples, peeled, cored and ...   \n4        40  18 cups thinly sliced apples, 3 tablespoons le...   \n5         4  6  apples - peeled, cored, and sliced, 2 table...   \n\n                                          directions  rating  \\\n1  Peel and core apples, then thinly slice. Set a...     4.8   \n2  Combine apples, water, sugar, and cinnamon in ...     4.8   \n3  Preheat the oven to 350 degrees F (175 degrees...     4.7   \n4  Toss apples with lemon juice in a large bowl a...     4.7   \n5  Preheat the oven to 350 degrees F (175 degrees...     4.7   \n\n                                        cuisine_path  \\\n1                [Desserts, Pies, Apple Pie Recipes]   \n2                    [Side Dish, Applesauce Recipes]   \n3  [Desserts, Crisps and Crumbles Recipes, Apple ...   \n4                [Desserts, Pies, Apple Pie Recipes]   \n5  [Desserts, Crisps and Crumbles Recipes, Apple ...   \n\n                                           nutrition  \n1  {'Total Fat': (19.0, 'g'), 'Saturated Fat': (9...  \n2  {'Total Fat': (0.0, 'g'), 'Sodium': (3.0, 'mg'...  \n3  {'Total Fat': (8.0, 'g'), 'Saturated Fat': (5....  \n4  {'Total Fat': (0.0, 'g'), 'Sodium': (61.0, 'mg...  \n5  {'Total Fat': (25.0, 'g'), 'Saturated Fat': (1...  ",
      "text/html": "<div>\n<style scoped>\n    .dataframe tbody tr th:only-of-type {\n        vertical-align: middle;\n    }\n\n    .dataframe tbody tr th {\n        vertical-align: top;\n    }\n\n    .dataframe thead th {\n        text-align: right;\n    }\n</style>\n<table border=\"1\" class=\"dataframe\">\n  <thead>\n    <tr style=\"text-align: right;\">\n      <th></th>\n      <th>recipe_name</th>\n      <th>prep_time</th>\n      <th>cook_time</th>\n      <th>total_time</th>\n      <th>servings</th>\n      <th>ingredients</th>\n      <th>directions</th>\n      <th>rating</th>\n      <th>cuisine_path</th>\n      <th>nutrition</th>\n    </tr>\n  </thead>\n  <tbody>\n    <tr>\n      <th>1</th>\n      <td>Apple Pie by Grandma Ople</td>\n      <td>30.0</td>\n      <td>60.0</td>\n      <td>90.0</td>\n      <td>8</td>\n      <td>8 small Granny Smith apples, or as needed, ½ c...</td>\n      <td>Peel and core apples, then thinly slice. Set a...</td>\n      <td>4.8</td>\n      <td>[Desserts, Pies, Apple Pie Recipes]</td>\n      <td>{'Total Fat': (19.0, 'g'), 'Saturated Fat': (9...</td>\n    </tr>\n    <tr>\n      <th>2</th>\n      <td>Sarah's Homemade Applesauce</td>\n      <td>10.0</td>\n      <td>15.0</td>\n      <td>25.0</td>\n      <td>4</td>\n      <td>4  apples - peeled, cored and chopped, ¾ cup w...</td>\n      <td>Combine apples, water, sugar, and cinnamon in ...</td>\n      <td>4.8</td>\n      <td>[Side Dish, Applesauce Recipes]</td>\n      <td>{'Total Fat': (0.0, 'g'), 'Sodium': (3.0, 'mg'...</td>\n    </tr>\n    <tr>\n      <th>3</th>\n      <td>Apple Crisp</td>\n      <td>30.0</td>\n      <td>45.0</td>\n      <td>75.0</td>\n      <td>12</td>\n      <td>10 cups all-purpose apples, peeled, cored and ...</td>\n      <td>Preheat the oven to 350 degrees F (175 degrees...</td>\n      <td>4.7</td>\n      <td>[Desserts, Crisps and Crumbles Recipes, Apple ...</td>\n      <td>{'Total Fat': (8.0, 'g'), 'Saturated Fat': (5....</td>\n    </tr>\n    <tr>\n      <th>4</th>\n      <td>Apple Pie Filling</td>\n      <td>20.0</td>\n      <td>20.0</td>\n      <td>160.0</td>\n      <td>40</td>\n      <td>18 cups thinly sliced apples, 3 tablespoons le...</td>\n      <td>Toss apples with lemon juice in a large bowl a...</td>\n      <td>4.7</td>\n      <td>[Desserts, Pies, Apple Pie Recipes]</td>\n      <td>{'Total Fat': (0.0, 'g'), 'Sodium': (61.0, 'mg...</td>\n    </tr>\n    <tr>\n      <th>5</th>\n      <td>Easy Apple Crisp with Oat Topping</td>\n      <td>20.0</td>\n      <td>40.0</td>\n      <td>60.0</td>\n      <td>4</td>\n      <td>6  apples - peeled, cored, and sliced, 2 table...</td>\n      <td>Preheat the oven to 350 degrees F (175 degrees...</td>\n      <td>4.7</td>\n      <td>[Desserts, Crisps and Crumbles Recipes, Apple ...</td>\n      <td>{'Total Fat': (25.0, 'g'), 'Saturated Fat': (1...</td>\n    </tr>\n  </tbody>\n</table>\n</div>"
     },
     "execution_count": 8,
     "metadata": {},
     "output_type": "execute_result"
    }
   ],
   "source": [
    "recipe_reduced[\"cook_time\"] = recipe_reduced.cook_time.fillna(0)\n",
    "recipe_reduced.loc[recipe_reduced.total_time < (recipe_reduced.prep_time +\n",
    "                                                recipe_reduced.cook_time), \"total_time\"] = recipe_reduced.cook_time + recipe_reduced.prep_time\n",
    "recipe_reduced.head()"
   ],
   "metadata": {
    "collapsed": false,
    "ExecuteTime": {
     "end_time": "2023-07-20T23:42:42.155526498Z",
     "start_time": "2023-07-20T23:42:41.950705276Z"
    }
   }
  },
  {
   "cell_type": "code",
   "execution_count": 9,
   "outputs": [
    {
     "data": {
      "text/plain": "370"
     },
     "execution_count": 9,
     "metadata": {},
     "output_type": "execute_result"
    }
   ],
   "source": [
    "len(recipe_reduced.loc[recipe_reduced.prep_time +\n",
    "                   recipe_reduced.cook_time !=\n",
    "                   recipe_reduced.total_time].index)"
   ],
   "metadata": {
    "collapsed": false,
    "ExecuteTime": {
     "end_time": "2023-07-20T23:42:42.180445666Z",
     "start_time": "2023-07-20T23:42:42.101174597Z"
    }
   }
  },
  {
   "cell_type": "code",
   "execution_count": 10,
   "outputs": [
    {
     "data": {
      "text/plain": "                            recipe_name  prep_time  cook_time  total_time  \\\n90                Apple Strudel Muffins       20.0       20.0        45.0   \n387              Single Crust Peach Pie       30.0        0.0        80.0   \n522       Salmon with Pomegranate Glaze       10.0       11.0        36.0   \n188                      Almond Tortoni       35.0        0.0       515.0   \n480               Potato Plum Dumplings       35.0       20.0       175.0   \n981         Flan de Coco (Coconut Flan)       10.0       60.0       550.0   \n1089  Chef John's Chocolate Energy Bars       15.0        0.0       180.0   \n602    Southern Style Banana Split Cake       30.0        0.0       120.0   \n1065                 Coconut Date Balls       10.0        5.0        25.0   \n633                 Simple Banana Bread       15.0       55.0        80.0   \n\n      servings                                        ingredients  \\\n90          12  2 cups all-purpose flour, 1 teaspoon baking po...   \n387          8  ¾ cup white sugar, 2 tablespoons butter, softe...   \n522          4  ⅓ cup pomegranate juice, 1 tablespoon soy sauc...   \n188          8  1  egg white, ¼ cup confectioners' sugar, 1 cu...   \n480         12  4 large russet potatoes, ½ teaspoon salt, 1 ta...   \n981         12  1 ½ cups white sugar, 1 (14 ounce) can sweeten...   \n1089        12  2 cups pitted Medjool dates, roughly chopped, ...   \n602         12  2 cups graham cracker crumbs, ¾ cup white suga...   \n1065        24  2  eggs, beaten, 1 cup white sugar, 1 cup chop...   \n633         10    cooking spray, 2 cups all-purpose flour, 1 t...   \n\n                                             directions  rating  \\\n90    Preheat the oven to 375 degrees F (190 degrees...     4.5   \n387   Cream sugar and butter or margarine together. ...     4.4   \n522   Whisk pomegranate juice, soy sauce, and garlic...     4.0   \n188   In a small bowl, beat egg white until foamy. G...     4.5   \n480   Scrub potatoes, and place them into a large po...     4.6   \n981   Preheat oven to 350 degrees F (175 degrees C)....     4.7   \n1089  Place cashews, almonds, coconut, dates, cocoa,...     4.8   \n602   Combine graham cracker crumbs, white sugar, an...     4.8   \n1065  In a medium saucepan over medium heat, combine...     4.6   \n633   Preheat the oven to 350 degrees F (175 degrees...     4.0   \n\n                                           cuisine_path  \\\n90    [Bread, Quick Bread Recipes, Muffin Recipes, A...   \n387     [Desserts, Pies, Fruit Pies, Peach Pie Recipes]   \n522   [Main Dishes, Seafood Main Dishes, Salmon, Sal...   \n188   [Desserts, Nut Dessert Recipes, Almond Dessert...   \n480                       [Cuisine, European, Austrian]   \n981     [Desserts, Custards and Puddings, Flan Recipes]   \n1089  [Appetizers and Snacks, Snacks, Granola Bar Re...   \n602   [Desserts, Fruit Desserts, Banana Dessert Reci...   \n1065        [Desserts, Cookies, No-Bake Cookie Recipes]   \n633     [Breakfast and Brunch, Breakfast Bread Recipes]   \n\n                                              nutrition  \n90    {'Total Fat': (10.0, 'g'), 'Saturated Fat': (6...  \n387   {'Total Fat': (10.0, 'g'), 'Saturated Fat': (4...  \n522   {'Total Fat': (23.0, 'g'), 'Saturated Fat': (4...  \n188   {'Total Fat': (19.0, 'g'), 'Saturated Fat': (7...  \n480   {'Total Fat': (10.0, 'g'), 'Saturated Fat': (6...  \n981   {'Total Fat': (9.0, 'g'), 'Saturated Fat': (5....  \n1089  {'Total Fat': (22.0, 'g'), 'Saturated Fat': (7...  \n602   {'Total Fat': (46.0, 'g'), 'Saturated Fat': (2...  \n1065  {'Total Fat': (2.0, 'g'), 'Saturated Fat': (1....  \n633   {'Total Fat': (5.0, 'g'), 'Saturated Fat': (1....  ",
      "text/html": "<div>\n<style scoped>\n    .dataframe tbody tr th:only-of-type {\n        vertical-align: middle;\n    }\n\n    .dataframe tbody tr th {\n        vertical-align: top;\n    }\n\n    .dataframe thead th {\n        text-align: right;\n    }\n</style>\n<table border=\"1\" class=\"dataframe\">\n  <thead>\n    <tr style=\"text-align: right;\">\n      <th></th>\n      <th>recipe_name</th>\n      <th>prep_time</th>\n      <th>cook_time</th>\n      <th>total_time</th>\n      <th>servings</th>\n      <th>ingredients</th>\n      <th>directions</th>\n      <th>rating</th>\n      <th>cuisine_path</th>\n      <th>nutrition</th>\n    </tr>\n  </thead>\n  <tbody>\n    <tr>\n      <th>90</th>\n      <td>Apple Strudel Muffins</td>\n      <td>20.0</td>\n      <td>20.0</td>\n      <td>45.0</td>\n      <td>12</td>\n      <td>2 cups all-purpose flour, 1 teaspoon baking po...</td>\n      <td>Preheat the oven to 375 degrees F (190 degrees...</td>\n      <td>4.5</td>\n      <td>[Bread, Quick Bread Recipes, Muffin Recipes, A...</td>\n      <td>{'Total Fat': (10.0, 'g'), 'Saturated Fat': (6...</td>\n    </tr>\n    <tr>\n      <th>387</th>\n      <td>Single Crust Peach Pie</td>\n      <td>30.0</td>\n      <td>0.0</td>\n      <td>80.0</td>\n      <td>8</td>\n      <td>¾ cup white sugar, 2 tablespoons butter, softe...</td>\n      <td>Cream sugar and butter or margarine together. ...</td>\n      <td>4.4</td>\n      <td>[Desserts, Pies, Fruit Pies, Peach Pie Recipes]</td>\n      <td>{'Total Fat': (10.0, 'g'), 'Saturated Fat': (4...</td>\n    </tr>\n    <tr>\n      <th>522</th>\n      <td>Salmon with Pomegranate Glaze</td>\n      <td>10.0</td>\n      <td>11.0</td>\n      <td>36.0</td>\n      <td>4</td>\n      <td>⅓ cup pomegranate juice, 1 tablespoon soy sauc...</td>\n      <td>Whisk pomegranate juice, soy sauce, and garlic...</td>\n      <td>4.0</td>\n      <td>[Main Dishes, Seafood Main Dishes, Salmon, Sal...</td>\n      <td>{'Total Fat': (23.0, 'g'), 'Saturated Fat': (4...</td>\n    </tr>\n    <tr>\n      <th>188</th>\n      <td>Almond Tortoni</td>\n      <td>35.0</td>\n      <td>0.0</td>\n      <td>515.0</td>\n      <td>8</td>\n      <td>1  egg white, ¼ cup confectioners' sugar, 1 cu...</td>\n      <td>In a small bowl, beat egg white until foamy. G...</td>\n      <td>4.5</td>\n      <td>[Desserts, Nut Dessert Recipes, Almond Dessert...</td>\n      <td>{'Total Fat': (19.0, 'g'), 'Saturated Fat': (7...</td>\n    </tr>\n    <tr>\n      <th>480</th>\n      <td>Potato Plum Dumplings</td>\n      <td>35.0</td>\n      <td>20.0</td>\n      <td>175.0</td>\n      <td>12</td>\n      <td>4 large russet potatoes, ½ teaspoon salt, 1 ta...</td>\n      <td>Scrub potatoes, and place them into a large po...</td>\n      <td>4.6</td>\n      <td>[Cuisine, European, Austrian]</td>\n      <td>{'Total Fat': (10.0, 'g'), 'Saturated Fat': (6...</td>\n    </tr>\n    <tr>\n      <th>981</th>\n      <td>Flan de Coco (Coconut Flan)</td>\n      <td>10.0</td>\n      <td>60.0</td>\n      <td>550.0</td>\n      <td>12</td>\n      <td>1 ½ cups white sugar, 1 (14 ounce) can sweeten...</td>\n      <td>Preheat oven to 350 degrees F (175 degrees C)....</td>\n      <td>4.7</td>\n      <td>[Desserts, Custards and Puddings, Flan Recipes]</td>\n      <td>{'Total Fat': (9.0, 'g'), 'Saturated Fat': (5....</td>\n    </tr>\n    <tr>\n      <th>1089</th>\n      <td>Chef John's Chocolate Energy Bars</td>\n      <td>15.0</td>\n      <td>0.0</td>\n      <td>180.0</td>\n      <td>12</td>\n      <td>2 cups pitted Medjool dates, roughly chopped, ...</td>\n      <td>Place cashews, almonds, coconut, dates, cocoa,...</td>\n      <td>4.8</td>\n      <td>[Appetizers and Snacks, Snacks, Granola Bar Re...</td>\n      <td>{'Total Fat': (22.0, 'g'), 'Saturated Fat': (7...</td>\n    </tr>\n    <tr>\n      <th>602</th>\n      <td>Southern Style Banana Split Cake</td>\n      <td>30.0</td>\n      <td>0.0</td>\n      <td>120.0</td>\n      <td>12</td>\n      <td>2 cups graham cracker crumbs, ¾ cup white suga...</td>\n      <td>Combine graham cracker crumbs, white sugar, an...</td>\n      <td>4.8</td>\n      <td>[Desserts, Fruit Desserts, Banana Dessert Reci...</td>\n      <td>{'Total Fat': (46.0, 'g'), 'Saturated Fat': (2...</td>\n    </tr>\n    <tr>\n      <th>1065</th>\n      <td>Coconut Date Balls</td>\n      <td>10.0</td>\n      <td>5.0</td>\n      <td>25.0</td>\n      <td>24</td>\n      <td>2  eggs, beaten, 1 cup white sugar, 1 cup chop...</td>\n      <td>In a medium saucepan over medium heat, combine...</td>\n      <td>4.6</td>\n      <td>[Desserts, Cookies, No-Bake Cookie Recipes]</td>\n      <td>{'Total Fat': (2.0, 'g'), 'Saturated Fat': (1....</td>\n    </tr>\n    <tr>\n      <th>633</th>\n      <td>Simple Banana Bread</td>\n      <td>15.0</td>\n      <td>55.0</td>\n      <td>80.0</td>\n      <td>10</td>\n      <td>cooking spray, 2 cups all-purpose flour, 1 t...</td>\n      <td>Preheat the oven to 350 degrees F (175 degrees...</td>\n      <td>4.0</td>\n      <td>[Breakfast and Brunch, Breakfast Bread Recipes]</td>\n      <td>{'Total Fat': (5.0, 'g'), 'Saturated Fat': (1....</td>\n    </tr>\n  </tbody>\n</table>\n</div>"
     },
     "execution_count": 10,
     "metadata": {},
     "output_type": "execute_result"
    }
   ],
   "source": [
    "recipe_reduced.loc[recipe_reduced.prep_time +\n",
    "                   recipe_reduced.cook_time !=\n",
    "                   recipe_reduced.total_time].sample(10, random_state=SEED)"
   ],
   "metadata": {
    "collapsed": false,
    "ExecuteTime": {
     "end_time": "2023-07-20T23:42:42.233623814Z",
     "start_time": "2023-07-20T23:42:42.101332299Z"
    }
   }
  },
  {
   "cell_type": "code",
   "execution_count": 11,
   "outputs": [
    {
     "data": {
      "text/plain": "                         recipe_name  prep_time  cook_time  total_time  \\\n1          Apple Pie by Grandma Ople       30.0       60.0        90.0   \n2        Sarah's Homemade Applesauce       10.0       15.0        25.0   \n3                        Apple Crisp       30.0       45.0        75.0   \n4                  Apple Pie Filling       20.0       20.0       160.0   \n5  Easy Apple Crisp with Oat Topping       20.0       40.0        60.0   \n\n   servings                                        ingredients  \\\n1         8  8 small Granny Smith apples, or as needed, ½ c...   \n2         4  4  apples - peeled, cored and chopped, ¾ cup w...   \n3        12  10 cups all-purpose apples, peeled, cored and ...   \n4        40  18 cups thinly sliced apples, 3 tablespoons le...   \n5         4  6  apples - peeled, cored, and sliced, 2 table...   \n\n                                          directions  rating  \\\n1  Peel and core apples, then thinly slice. Set a...     4.8   \n2  Combine apples, water, sugar, and cinnamon in ...     4.8   \n3  Preheat the oven to 350 degrees F (175 degrees...     4.7   \n4  Toss apples with lemon juice in a large bowl a...     4.7   \n5  Preheat the oven to 350 degrees F (175 degrees...     4.7   \n\n                                        cuisine_path  \\\n1                [Desserts, Pies, Apple Pie Recipes]   \n2                    [Side Dish, Applesauce Recipes]   \n3  [Desserts, Crisps and Crumbles Recipes, Apple ...   \n4                [Desserts, Pies, Apple Pie Recipes]   \n5  [Desserts, Crisps and Crumbles Recipes, Apple ...   \n\n                                           nutrition  auto_time  \n1  {'Total Fat': (19.0, 'g'), 'Saturated Fat': (9...        0.0  \n2  {'Total Fat': (0.0, 'g'), 'Sodium': (3.0, 'mg'...        0.0  \n3  {'Total Fat': (8.0, 'g'), 'Saturated Fat': (5....        0.0  \n4  {'Total Fat': (0.0, 'g'), 'Sodium': (61.0, 'mg...      120.0  \n5  {'Total Fat': (25.0, 'g'), 'Saturated Fat': (1...        0.0  ",
      "text/html": "<div>\n<style scoped>\n    .dataframe tbody tr th:only-of-type {\n        vertical-align: middle;\n    }\n\n    .dataframe tbody tr th {\n        vertical-align: top;\n    }\n\n    .dataframe thead th {\n        text-align: right;\n    }\n</style>\n<table border=\"1\" class=\"dataframe\">\n  <thead>\n    <tr style=\"text-align: right;\">\n      <th></th>\n      <th>recipe_name</th>\n      <th>prep_time</th>\n      <th>cook_time</th>\n      <th>total_time</th>\n      <th>servings</th>\n      <th>ingredients</th>\n      <th>directions</th>\n      <th>rating</th>\n      <th>cuisine_path</th>\n      <th>nutrition</th>\n      <th>auto_time</th>\n    </tr>\n  </thead>\n  <tbody>\n    <tr>\n      <th>1</th>\n      <td>Apple Pie by Grandma Ople</td>\n      <td>30.0</td>\n      <td>60.0</td>\n      <td>90.0</td>\n      <td>8</td>\n      <td>8 small Granny Smith apples, or as needed, ½ c...</td>\n      <td>Peel and core apples, then thinly slice. Set a...</td>\n      <td>4.8</td>\n      <td>[Desserts, Pies, Apple Pie Recipes]</td>\n      <td>{'Total Fat': (19.0, 'g'), 'Saturated Fat': (9...</td>\n      <td>0.0</td>\n    </tr>\n    <tr>\n      <th>2</th>\n      <td>Sarah's Homemade Applesauce</td>\n      <td>10.0</td>\n      <td>15.0</td>\n      <td>25.0</td>\n      <td>4</td>\n      <td>4  apples - peeled, cored and chopped, ¾ cup w...</td>\n      <td>Combine apples, water, sugar, and cinnamon in ...</td>\n      <td>4.8</td>\n      <td>[Side Dish, Applesauce Recipes]</td>\n      <td>{'Total Fat': (0.0, 'g'), 'Sodium': (3.0, 'mg'...</td>\n      <td>0.0</td>\n    </tr>\n    <tr>\n      <th>3</th>\n      <td>Apple Crisp</td>\n      <td>30.0</td>\n      <td>45.0</td>\n      <td>75.0</td>\n      <td>12</td>\n      <td>10 cups all-purpose apples, peeled, cored and ...</td>\n      <td>Preheat the oven to 350 degrees F (175 degrees...</td>\n      <td>4.7</td>\n      <td>[Desserts, Crisps and Crumbles Recipes, Apple ...</td>\n      <td>{'Total Fat': (8.0, 'g'), 'Saturated Fat': (5....</td>\n      <td>0.0</td>\n    </tr>\n    <tr>\n      <th>4</th>\n      <td>Apple Pie Filling</td>\n      <td>20.0</td>\n      <td>20.0</td>\n      <td>160.0</td>\n      <td>40</td>\n      <td>18 cups thinly sliced apples, 3 tablespoons le...</td>\n      <td>Toss apples with lemon juice in a large bowl a...</td>\n      <td>4.7</td>\n      <td>[Desserts, Pies, Apple Pie Recipes]</td>\n      <td>{'Total Fat': (0.0, 'g'), 'Sodium': (61.0, 'mg...</td>\n      <td>120.0</td>\n    </tr>\n    <tr>\n      <th>5</th>\n      <td>Easy Apple Crisp with Oat Topping</td>\n      <td>20.0</td>\n      <td>40.0</td>\n      <td>60.0</td>\n      <td>4</td>\n      <td>6  apples - peeled, cored, and sliced, 2 table...</td>\n      <td>Preheat the oven to 350 degrees F (175 degrees...</td>\n      <td>4.7</td>\n      <td>[Desserts, Crisps and Crumbles Recipes, Apple ...</td>\n      <td>{'Total Fat': (25.0, 'g'), 'Saturated Fat': (1...</td>\n      <td>0.0</td>\n    </tr>\n  </tbody>\n</table>\n</div>"
     },
     "execution_count": 11,
     "metadata": {},
     "output_type": "execute_result"
    }
   ],
   "source": [
    "recipe_reduced[\"auto_time\"] = recipe_reduced.total_time - \\\n",
    "                              recipe_reduced.prep_time - \\\n",
    "                              recipe_reduced.cook_time\n",
    "recipe_reduced.head()"
   ],
   "metadata": {
    "collapsed": false,
    "ExecuteTime": {
     "end_time": "2023-07-20T23:42:42.257801547Z",
     "start_time": "2023-07-20T23:42:42.189277588Z"
    }
   }
  },
  {
   "cell_type": "code",
   "execution_count": 12,
   "outputs": [],
   "source": [
    "recipe_reduced.to_json(\"../data/recipes.json\", orient=\"records\")"
   ],
   "metadata": {
    "collapsed": false,
    "ExecuteTime": {
     "end_time": "2023-07-20T23:42:42.319395084Z",
     "start_time": "2023-07-20T23:42:42.233948716Z"
    }
   }
  }
 ],
 "metadata": {
  "kernelspec": {
   "display_name": "Python 3",
   "language": "python",
   "name": "python3"
  },
  "language_info": {
   "codemirror_mode": {
    "name": "ipython",
    "version": 2
   },
   "file_extension": ".py",
   "mimetype": "text/x-python",
   "name": "python",
   "nbconvert_exporter": "python",
   "pygments_lexer": "ipython2",
   "version": "2.7.6"
  }
 },
 "nbformat": 4,
 "nbformat_minor": 0
}
